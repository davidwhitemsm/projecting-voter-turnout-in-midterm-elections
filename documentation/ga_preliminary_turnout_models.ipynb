{
 "cells": [
  {
   "cell_type": "markdown",
   "id": "52e85076",
   "metadata": {},
   "source": [
    "# Georgia Turnout Model Workbook"
   ]
  },
  {
   "cell_type": "markdown",
   "id": "423f6d95",
   "metadata": {},
   "source": [
    "---"
   ]
  },
  {
   "cell_type": "markdown",
   "id": "f02a4b4a",
   "metadata": {},
   "source": [
    "## Find RMSE for Traditional Method"
   ]
  },
  {
   "cell_type": "code",
   "execution_count": 1,
   "id": "f02b9860",
   "metadata": {},
   "outputs": [],
   "source": [
    "# import data analysis packages\n",
    "import numpy as np\n",
    "import pandas as pd\n",
    "\n",
    "# import functions from sci-kit learn \n",
    "from sklearn.linear_model import LinearRegression\n",
    "from sklearn.model_selection import cross_val_score, train_test_split , KFold \n",
    "from sklearn import metrics\n",
    "\n",
    "# import functions from statsmodels\n",
    "import statsmodels.formula.api as smf\n",
    "\n",
    "# import data visualization packages\n",
    "import seaborn as sns\n",
    "import matplotlib.pyplot as plt\n",
    "\n",
    "# allow graphs to display in the notebook inline\n",
    "%matplotlib inline"
   ]
  },
  {
   "cell_type": "code",
   "execution_count": 11,
   "id": "b010b46f",
   "metadata": {},
   "outputs": [],
   "source": [
    "trad = pd.read_csv(r\"C:\\Users\\David White\\Desktop\\2018_turnout_true_traditional_pred - county results.csv\")"
   ]
  },
  {
   "cell_type": "code",
   "execution_count": 12,
   "id": "19c367d8",
   "metadata": {},
   "outputs": [
    {
     "data": {
      "text/html": [
       "<div>\n",
       "<style scoped>\n",
       "    .dataframe tbody tr th:only-of-type {\n",
       "        vertical-align: middle;\n",
       "    }\n",
       "\n",
       "    .dataframe tbody tr th {\n",
       "        vertical-align: top;\n",
       "    }\n",
       "\n",
       "    .dataframe thead th {\n",
       "        text-align: right;\n",
       "    }\n",
       "</style>\n",
       "<table border=\"1\" class=\"dataframe\">\n",
       "  <thead>\n",
       "    <tr style=\"text-align: right;\">\n",
       "      <th></th>\n",
       "      <th>county</th>\n",
       "      <th>sum_of_registered_voters_2018</th>\n",
       "      <th>sum_of_ballots_cast_2018</th>\n",
       "      <th>sum_of_registered_voters_2014</th>\n",
       "      <th>sum_of_ballots_cast_2014</th>\n",
       "      <th>sum_of_registered_voters_2010</th>\n",
       "      <th>sum_of_ballots_cast_2010</th>\n",
       "      <th>sum_of_registered_voters_2006</th>\n",
       "      <th>sum_of_ballots_cast_2006</th>\n",
       "      <th>traditional2018projvotes</th>\n",
       "    </tr>\n",
       "  </thead>\n",
       "  <tbody>\n",
       "    <tr>\n",
       "      <th>0</th>\n",
       "      <td>Appling</td>\n",
       "      <td>10613</td>\n",
       "      <td>6827</td>\n",
       "      <td>10682</td>\n",
       "      <td>4532</td>\n",
       "      <td>5263</td>\n",
       "      <td>9306</td>\n",
       "      <td>4170</td>\n",
       "      <td>8779</td>\n",
       "      <td>7539</td>\n",
       "    </tr>\n",
       "    <tr>\n",
       "      <th>1</th>\n",
       "      <td>Atkinson</td>\n",
       "      <td>4252</td>\n",
       "      <td>2527</td>\n",
       "      <td>3791</td>\n",
       "      <td>1713</td>\n",
       "      <td>1492</td>\n",
       "      <td>3640</td>\n",
       "      <td>1500</td>\n",
       "      <td>3539</td>\n",
       "      <td>2964</td>\n",
       "    </tr>\n",
       "    <tr>\n",
       "      <th>2</th>\n",
       "      <td>Bacon</td>\n",
       "      <td>6010</td>\n",
       "      <td>3836</td>\n",
       "      <td>5051</td>\n",
       "      <td>2271</td>\n",
       "      <td>2537</td>\n",
       "      <td>5003</td>\n",
       "      <td>2370</td>\n",
       "      <td>5015</td>\n",
       "      <td>4096</td>\n",
       "    </tr>\n",
       "    <tr>\n",
       "      <th>3</th>\n",
       "      <td>Baker</td>\n",
       "      <td>2232</td>\n",
       "      <td>1297</td>\n",
       "      <td>2067</td>\n",
       "      <td>1017</td>\n",
       "      <td>1269</td>\n",
       "      <td>2122</td>\n",
       "      <td>1014</td>\n",
       "      <td>2149</td>\n",
       "      <td>1763</td>\n",
       "    </tr>\n",
       "    <tr>\n",
       "      <th>4</th>\n",
       "      <td>Baldwin</td>\n",
       "      <td>23399</td>\n",
       "      <td>15690</td>\n",
       "      <td>20626</td>\n",
       "      <td>10774</td>\n",
       "      <td>11528</td>\n",
       "      <td>20299</td>\n",
       "      <td>10123</td>\n",
       "      <td>18319</td>\n",
       "      <td>16464</td>\n",
       "    </tr>\n",
       "  </tbody>\n",
       "</table>\n",
       "</div>"
      ],
      "text/plain": [
       "     county  sum_of_registered_voters_2018  sum_of_ballots_cast_2018  \\\n",
       "0   Appling                          10613                      6827   \n",
       "1  Atkinson                           4252                      2527   \n",
       "2     Bacon                           6010                      3836   \n",
       "3     Baker                           2232                      1297   \n",
       "4   Baldwin                          23399                     15690   \n",
       "\n",
       "   sum_of_registered_voters_2014  sum_of_ballots_cast_2014  \\\n",
       "0                          10682                      4532   \n",
       "1                           3791                      1713   \n",
       "2                           5051                      2271   \n",
       "3                           2067                      1017   \n",
       "4                          20626                     10774   \n",
       "\n",
       "   sum_of_registered_voters_2010  sum_of_ballots_cast_2010  \\\n",
       "0                           5263                      9306   \n",
       "1                           1492                      3640   \n",
       "2                           2537                      5003   \n",
       "3                           1269                      2122   \n",
       "4                          11528                     20299   \n",
       "\n",
       "   sum_of_registered_voters_2006  sum_of_ballots_cast_2006  \\\n",
       "0                           4170                      8779   \n",
       "1                           1500                      3539   \n",
       "2                           2370                      5015   \n",
       "3                           1014                      2149   \n",
       "4                          10123                     18319   \n",
       "\n",
       "   traditional2018projvotes  \n",
       "0                      7539  \n",
       "1                      2964  \n",
       "2                      4096  \n",
       "3                      1763  \n",
       "4                     16464  "
      ]
     },
     "execution_count": 12,
     "metadata": {},
     "output_type": "execute_result"
    }
   ],
   "source": [
    "trad.head()"
   ]
  },
  {
   "cell_type": "code",
   "execution_count": 4,
   "id": "945bb127",
   "metadata": {},
   "outputs": [
    {
     "data": {
      "text/plain": [
       "Index(['county', 'sum_of_registered_voters_2018', 'sum_of_ballots_cast_2018',\n",
       "       'sum_of_registered_voters_2014', 'sum_of_ballots_cast_2014',\n",
       "       'sum_of_registered_voters_2010', 'sum_of_ballots_cast_2010',\n",
       "       'sum_of_registered_voters_2006', 'sum_of_ballots_cast_2006',\n",
       "       'traditional2018projvotes'],\n",
       "      dtype='object')"
      ]
     },
     "execution_count": 4,
     "metadata": {},
     "output_type": "execute_result"
    }
   ],
   "source": [
    "data.columns"
   ]
  },
  {
   "cell_type": "code",
   "execution_count": 13,
   "id": "ffd1b1ee",
   "metadata": {},
   "outputs": [],
   "source": [
    "y = trad['sum_of_ballots_cast_2018']"
   ]
  },
  {
   "cell_type": "code",
   "execution_count": 14,
   "id": "75853e8d",
   "metadata": {},
   "outputs": [],
   "source": [
    "y_pred = trad['traditional2018projvotes']"
   ]
  },
  {
   "cell_type": "code",
   "execution_count": 15,
   "id": "ff62b062",
   "metadata": {},
   "outputs": [
    {
     "name": "stdout",
     "output_type": "stream",
     "text": [
      "3354.2413392992685\n"
     ]
    }
   ],
   "source": [
    "print(np.sqrt(metrics.mean_squared_error(y, y_pred)))"
   ]
  },
  {
   "cell_type": "markdown",
   "id": "ba4cc6fb",
   "metadata": {},
   "source": [
    "---"
   ]
  },
  {
   "cell_type": "markdown",
   "id": "8e90a12d",
   "metadata": {},
   "source": [
    "## Find RMSE for Machine Learning Method"
   ]
  },
  {
   "cell_type": "code",
   "execution_count": 16,
   "id": "7170acec",
   "metadata": {},
   "outputs": [],
   "source": [
    "ml = pd.read_csv(r\"C:\\Users\\David White\\Desktop\\2018_turnout_true_ml_pred.csv\")"
   ]
  },
  {
   "cell_type": "code",
   "execution_count": 17,
   "id": "0f4a342b",
   "metadata": {},
   "outputs": [
    {
     "data": {
      "text/html": [
       "<div>\n",
       "<style scoped>\n",
       "    .dataframe tbody tr th:only-of-type {\n",
       "        vertical-align: middle;\n",
       "    }\n",
       "\n",
       "    .dataframe tbody tr th {\n",
       "        vertical-align: top;\n",
       "    }\n",
       "\n",
       "    .dataframe thead th {\n",
       "        text-align: right;\n",
       "    }\n",
       "</style>\n",
       "<table border=\"1\" class=\"dataframe\">\n",
       "  <thead>\n",
       "    <tr style=\"text-align: right;\">\n",
       "      <th></th>\n",
       "      <th>county</th>\n",
       "      <th>sum_of_registered_voters_2018</th>\n",
       "      <th>sum_of_ballots_cast_2018</th>\n",
       "      <th>sum_of_registered_voters_2014</th>\n",
       "      <th>sum_of_ballots_cast_2014</th>\n",
       "      <th>sum_of_registered_voters_2010</th>\n",
       "      <th>sum_of_ballots_cast_2010</th>\n",
       "      <th>sum_of_registered_voters_2006</th>\n",
       "      <th>sum_of_ballots_cast_2006</th>\n",
       "      <th>traditional2018projvotes</th>\n",
       "      <th>...</th>\n",
       "      <th>2010_income_60_to_100k_pct</th>\n",
       "      <th>2010_household_income_100_to_200k_pct</th>\n",
       "      <th>2010_household_income_200k_or_more_pct</th>\n",
       "      <th>2010_poverty_pct</th>\n",
       "      <th>2010_families_with_young_children_pct</th>\n",
       "      <th>2010_married_households_pct</th>\n",
       "      <th>2010_households_without_a_car_pct</th>\n",
       "      <th>weighted_ballots_cast_2014</th>\n",
       "      <th>weighted_ballots_cast_2010</th>\n",
       "      <th>weighted_ballots_cast_2006</th>\n",
       "    </tr>\n",
       "  </thead>\n",
       "  <tbody>\n",
       "    <tr>\n",
       "      <th>0</th>\n",
       "      <td>Appling</td>\n",
       "      <td>10613</td>\n",
       "      <td>6827</td>\n",
       "      <td>10682</td>\n",
       "      <td>4532</td>\n",
       "      <td>5263</td>\n",
       "      <td>9306</td>\n",
       "      <td>4170</td>\n",
       "      <td>8779</td>\n",
       "      <td>7539</td>\n",
       "      <td>...</td>\n",
       "      <td>0.168</td>\n",
       "      <td>0.106</td>\n",
       "      <td>0.004</td>\n",
       "      <td>0.220</td>\n",
       "      <td>0.251</td>\n",
       "      <td>0.529</td>\n",
       "      <td>0.077</td>\n",
       "      <td>3852.20</td>\n",
       "      <td>4187.70</td>\n",
       "      <td>1316.85</td>\n",
       "    </tr>\n",
       "    <tr>\n",
       "      <th>1</th>\n",
       "      <td>Atkinson</td>\n",
       "      <td>4252</td>\n",
       "      <td>2527</td>\n",
       "      <td>3791</td>\n",
       "      <td>1713</td>\n",
       "      <td>1492</td>\n",
       "      <td>3640</td>\n",
       "      <td>1500</td>\n",
       "      <td>3539</td>\n",
       "      <td>2964</td>\n",
       "      <td>...</td>\n",
       "      <td>0.184</td>\n",
       "      <td>0.046</td>\n",
       "      <td>0.018</td>\n",
       "      <td>0.280</td>\n",
       "      <td>0.457</td>\n",
       "      <td>0.464</td>\n",
       "      <td>0.077</td>\n",
       "      <td>1456.05</td>\n",
       "      <td>1638.00</td>\n",
       "      <td>530.85</td>\n",
       "    </tr>\n",
       "    <tr>\n",
       "      <th>2</th>\n",
       "      <td>Bacon</td>\n",
       "      <td>6010</td>\n",
       "      <td>3836</td>\n",
       "      <td>5051</td>\n",
       "      <td>2271</td>\n",
       "      <td>2537</td>\n",
       "      <td>5003</td>\n",
       "      <td>2370</td>\n",
       "      <td>5015</td>\n",
       "      <td>4096</td>\n",
       "      <td>...</td>\n",
       "      <td>0.163</td>\n",
       "      <td>0.119</td>\n",
       "      <td>0.003</td>\n",
       "      <td>0.157</td>\n",
       "      <td>0.379</td>\n",
       "      <td>0.503</td>\n",
       "      <td>0.062</td>\n",
       "      <td>1930.35</td>\n",
       "      <td>2251.35</td>\n",
       "      <td>752.25</td>\n",
       "    </tr>\n",
       "    <tr>\n",
       "      <th>3</th>\n",
       "      <td>Baker</td>\n",
       "      <td>2232</td>\n",
       "      <td>1297</td>\n",
       "      <td>2067</td>\n",
       "      <td>1017</td>\n",
       "      <td>1269</td>\n",
       "      <td>2122</td>\n",
       "      <td>1014</td>\n",
       "      <td>2149</td>\n",
       "      <td>1763</td>\n",
       "      <td>...</td>\n",
       "      <td>0.139</td>\n",
       "      <td>0.059</td>\n",
       "      <td>0.019</td>\n",
       "      <td>0.299</td>\n",
       "      <td>0.453</td>\n",
       "      <td>0.472</td>\n",
       "      <td>0.140</td>\n",
       "      <td>864.45</td>\n",
       "      <td>954.90</td>\n",
       "      <td>322.35</td>\n",
       "    </tr>\n",
       "    <tr>\n",
       "      <th>4</th>\n",
       "      <td>Baldwin</td>\n",
       "      <td>23399</td>\n",
       "      <td>15690</td>\n",
       "      <td>20626</td>\n",
       "      <td>10774</td>\n",
       "      <td>11528</td>\n",
       "      <td>20299</td>\n",
       "      <td>10123</td>\n",
       "      <td>18319</td>\n",
       "      <td>16464</td>\n",
       "      <td>...</td>\n",
       "      <td>0.188</td>\n",
       "      <td>0.101</td>\n",
       "      <td>0.009</td>\n",
       "      <td>0.219</td>\n",
       "      <td>0.301</td>\n",
       "      <td>0.377</td>\n",
       "      <td>0.097</td>\n",
       "      <td>9157.90</td>\n",
       "      <td>9134.55</td>\n",
       "      <td>2747.85</td>\n",
       "    </tr>\n",
       "  </tbody>\n",
       "</table>\n",
       "<p>5 rows × 91 columns</p>\n",
       "</div>"
      ],
      "text/plain": [
       "     county  sum_of_registered_voters_2018  sum_of_ballots_cast_2018  \\\n",
       "0   Appling                          10613                      6827   \n",
       "1  Atkinson                           4252                      2527   \n",
       "2     Bacon                           6010                      3836   \n",
       "3     Baker                           2232                      1297   \n",
       "4   Baldwin                          23399                     15690   \n",
       "\n",
       "   sum_of_registered_voters_2014  sum_of_ballots_cast_2014  \\\n",
       "0                          10682                      4532   \n",
       "1                           3791                      1713   \n",
       "2                           5051                      2271   \n",
       "3                           2067                      1017   \n",
       "4                          20626                     10774   \n",
       "\n",
       "   sum_of_registered_voters_2010  sum_of_ballots_cast_2010  \\\n",
       "0                           5263                      9306   \n",
       "1                           1492                      3640   \n",
       "2                           2537                      5003   \n",
       "3                           1269                      2122   \n",
       "4                          11528                     20299   \n",
       "\n",
       "   sum_of_registered_voters_2006  sum_of_ballots_cast_2006  \\\n",
       "0                           4170                      8779   \n",
       "1                           1500                      3539   \n",
       "2                           2370                      5015   \n",
       "3                           1014                      2149   \n",
       "4                          10123                     18319   \n",
       "\n",
       "   traditional2018projvotes  ...  2010_income_60_to_100k_pct  \\\n",
       "0                      7539  ...                       0.168   \n",
       "1                      2964  ...                       0.184   \n",
       "2                      4096  ...                       0.163   \n",
       "3                      1763  ...                       0.139   \n",
       "4                     16464  ...                       0.188   \n",
       "\n",
       "   2010_household_income_100_to_200k_pct  \\\n",
       "0                                  0.106   \n",
       "1                                  0.046   \n",
       "2                                  0.119   \n",
       "3                                  0.059   \n",
       "4                                  0.101   \n",
       "\n",
       "   2010_household_income_200k_or_more_pct  2010_poverty_pct  \\\n",
       "0                                   0.004             0.220   \n",
       "1                                   0.018             0.280   \n",
       "2                                   0.003             0.157   \n",
       "3                                   0.019             0.299   \n",
       "4                                   0.009             0.219   \n",
       "\n",
       "   2010_families_with_young_children_pct  2010_married_households_pct  \\\n",
       "0                                  0.251                        0.529   \n",
       "1                                  0.457                        0.464   \n",
       "2                                  0.379                        0.503   \n",
       "3                                  0.453                        0.472   \n",
       "4                                  0.301                        0.377   \n",
       "\n",
       "   2010_households_without_a_car_pct  weighted_ballots_cast_2014  \\\n",
       "0                              0.077                     3852.20   \n",
       "1                              0.077                     1456.05   \n",
       "2                              0.062                     1930.35   \n",
       "3                              0.140                      864.45   \n",
       "4                              0.097                     9157.90   \n",
       "\n",
       "   weighted_ballots_cast_2010  weighted_ballots_cast_2006  \n",
       "0                     4187.70                     1316.85  \n",
       "1                     1638.00                      530.85  \n",
       "2                     2251.35                      752.25  \n",
       "3                      954.90                      322.35  \n",
       "4                     9134.55                     2747.85  \n",
       "\n",
       "[5 rows x 91 columns]"
      ]
     },
     "execution_count": 17,
     "metadata": {},
     "output_type": "execute_result"
    }
   ],
   "source": [
    "ml.head()"
   ]
  },
  {
   "cell_type": "code",
   "execution_count": 18,
   "id": "1a2ee113",
   "metadata": {},
   "outputs": [
    {
     "data": {
      "text/plain": [
       "Index(['county', 'sum_of_registered_voters_2018', 'sum_of_ballots_cast_2018',\n",
       "       'sum_of_registered_voters_2014', 'sum_of_ballots_cast_2014',\n",
       "       'sum_of_registered_voters_2010', 'sum_of_ballots_cast_2010',\n",
       "       'sum_of_registered_voters_2006', 'sum_of_ballots_cast_2006',\n",
       "       'traditional2018projvotes', 'County_FIPS_Code', '2018_white_pct',\n",
       "       '2018_black_pct', '2018_hispanic_pct', '2018_asian_pct',\n",
       "       '2018_amerindian_pct', '2018_other_race_pct', '2018_male_pct',\n",
       "       '2018_female_pct', '2018_under_age_18_pct', '2018_ages_18_to_24_pct',\n",
       "       '2018_ages_25_to_39_pct', '2018_ages_40_to_64_pct',\n",
       "       '2018_ages_65_and_over_pct',\n",
       "       '2018_highest_edudation_level_high_school_diploma_pct',\n",
       "       '2018_highest_edudation_level_bachelors_degree_pct',\n",
       "       '2018_highest_edudation_level_masters_degree_pct',\n",
       "       '2018_household_income_less_than_10k_pct',\n",
       "       '2018_household_income_20_to_40k_pct',\n",
       "       '2018_household_income_40_to_60k_pct', '2018_income_60_to_100k_pct',\n",
       "       '2018_household_income_100_to_200k_pct',\n",
       "       '2018_household_income_200k_or_more_pct', '2018_poverty_pct',\n",
       "       '2018_families_with_young_children_pct', '2018_married_households_pct',\n",
       "       '2018_commuters_by_public_transportation_pct',\n",
       "       '2018_households_without_a_car_pct', '2014_white_pct', '2014_black_pct',\n",
       "       '2014_hispanic_pct', '2014_asian_pct', '2014_amerindian_pct',\n",
       "       '2014_other_race_pct', '2014_male_pct', '2014_female_pct',\n",
       "       '2014_under_age_18_pct', '2014_ages_18_to_24_pct',\n",
       "       '2014_ages_25_to_39_pct', '2014_ages_40_to_64_pct',\n",
       "       '2014_ages_65_and_over_pct',\n",
       "       '2014_highest_edudation_level_high_school_diploma_pct',\n",
       "       '2014_highest_edudation_level_bachelors_degree_pct',\n",
       "       '2014_highest_edudation_level_masters_degree_pct',\n",
       "       '2014_household_income_less_than_10k_pct',\n",
       "       '2014_household_income_20_to_40k_pct',\n",
       "       '2014_household_income_40_to_60k_pct', '2014_income_60_to_100k_pct',\n",
       "       '2014_household_income_100_to_200k_pct',\n",
       "       '2014_household_income_200k_or_more_pct', '2014_poverty_pct',\n",
       "       '2014_families_with_young_children_pct', '2014_married_households_pct',\n",
       "       '2014_commuters_by_public_transportation_pct',\n",
       "       '2014_households_without_a_car_pct', '2010_white_pct', '2010_black_pct',\n",
       "       '2010_hispanic_pct', '2010_asian_pct', '2010_amerindian_pct',\n",
       "       '2010_other_race_pct', '2010_male_pct', '2010_female_pct',\n",
       "       '2010_under_age_18_pct', '2010_ages_18_to_24_pct',\n",
       "       '2010_ages_25_to_39_pct', '2010_ages_40_to_64_pct',\n",
       "       '2010_ages_65_and_over_pct', '2010_household_income_less_than_10k_pct',\n",
       "       '2010_household_income_20_to_40k_pct',\n",
       "       '2010_household_income_40_to_60k_pct', '2010_income_60_to_100k_pct',\n",
       "       '2010_household_income_100_to_200k_pct',\n",
       "       '2010_household_income_200k_or_more_pct', '2010_poverty_pct',\n",
       "       '2010_families_with_young_children_pct', '2010_married_households_pct',\n",
       "       '2010_households_without_a_car_pct', 'weighted_ballots_cast_2014',\n",
       "       'weighted_ballots_cast_2010', 'weighted_ballots_cast_2006'],\n",
       "      dtype='object')"
      ]
     },
     "execution_count": 18,
     "metadata": {},
     "output_type": "execute_result"
    }
   ],
   "source": [
    "ml.columns"
   ]
  },
  {
   "cell_type": "code",
   "execution_count": 26,
   "id": "10d4fcd5",
   "metadata": {},
   "outputs": [],
   "source": [
    "from sklearn.linear_model import LinearRegression\n",
    "\n",
    "lr = LinearRegression()"
   ]
  },
  {
   "cell_type": "code",
   "execution_count": 24,
   "id": "4866ec3f",
   "metadata": {},
   "outputs": [],
   "source": [
    "lr = LinearRegression()"
   ]
  },
  {
   "cell_type": "code",
   "execution_count": 30,
   "id": "39ac9c07",
   "metadata": {},
   "outputs": [],
   "source": [
    "X = ml.drop(['sum_of_ballots_cast_2018','county'], axis=1)"
   ]
  },
  {
   "cell_type": "code",
   "execution_count": 31,
   "id": "16c0caed",
   "metadata": {},
   "outputs": [],
   "source": [
    "y = ml['sum_of_ballots_cast_2018']"
   ]
  },
  {
   "cell_type": "code",
   "execution_count": 32,
   "id": "e5237b25",
   "metadata": {},
   "outputs": [
    {
     "data": {
      "text/plain": [
       "LinearRegression()"
      ]
     },
     "execution_count": 32,
     "metadata": {},
     "output_type": "execute_result"
    }
   ],
   "source": [
    "lr.fit(X,y)"
   ]
  },
  {
   "cell_type": "code",
   "execution_count": 33,
   "id": "fe8d2646",
   "metadata": {},
   "outputs": [],
   "source": [
    "y_pred = lr.predict(X)"
   ]
  },
  {
   "cell_type": "code",
   "execution_count": 34,
   "id": "756d8f67",
   "metadata": {},
   "outputs": [
    {
     "name": "stdout",
     "output_type": "stream",
     "text": [
      "702.3247546866182\n"
     ]
    }
   ],
   "source": [
    "print(np.sqrt(metrics.mean_squared_error(y, y_pred)))"
   ]
  },
  {
   "cell_type": "markdown",
   "id": "7f3cb93e",
   "metadata": {},
   "source": [
    "### Improve model by running train-test split"
   ]
  },
  {
   "cell_type": "code",
   "execution_count": 35,
   "id": "13f4f07a",
   "metadata": {},
   "outputs": [],
   "source": [
    "from sklearn.model_selection import train_test_split"
   ]
  },
  {
   "cell_type": "code",
   "execution_count": 92,
   "id": "9667981d",
   "metadata": {},
   "outputs": [],
   "source": [
    "X_train, X_test, y_train, y_test = train_test_split(X, y, test_size=0.15, random_state=42)"
   ]
  },
  {
   "cell_type": "code",
   "execution_count": 93,
   "id": "a1bf7a05",
   "metadata": {},
   "outputs": [
    {
     "data": {
      "text/plain": [
       "LinearRegression()"
      ]
     },
     "execution_count": 93,
     "metadata": {},
     "output_type": "execute_result"
    }
   ],
   "source": [
    "# Step 2: Train the model on the training set\n",
    "\n",
    "lr = LinearRegression()\n",
    "lr.fit(X_train, y_train)"
   ]
  },
  {
   "cell_type": "code",
   "execution_count": 94,
   "id": "619c1057",
   "metadata": {},
   "outputs": [
    {
     "name": "stdout",
     "output_type": "stream",
     "text": [
      "509.2906664553341\n",
      "1996.9513215934016\n"
     ]
    }
   ],
   "source": [
    "# Step 3: Test the model on the testing set and check the accuracy.\n",
    "\n",
    "y_pred = lr.predict(X_test)\n",
    "\n",
    "print(np.sqrt(metrics.mean_squared_error(y_train, lr.predict(X_train))))\n",
    "print(np.sqrt(metrics.mean_squared_error(y_test, y_pred)))"
   ]
  },
  {
   "cell_type": "code",
   "execution_count": null,
   "id": "9ff33198",
   "metadata": {},
   "outputs": [],
   "source": []
  },
  {
   "cell_type": "code",
   "execution_count": null,
   "id": "9f787074",
   "metadata": {},
   "outputs": [],
   "source": [
    "lr.fit(X,y)"
   ]
  },
  {
   "cell_type": "code",
   "execution_count": null,
   "id": "ec58acbb",
   "metadata": {},
   "outputs": [],
   "source": [
    "y_pred = lr.predict(X)"
   ]
  },
  {
   "cell_type": "code",
   "execution_count": 67,
   "id": "6229675d",
   "metadata": {},
   "outputs": [
    {
     "ename": "ValueError",
     "evalue": "Found input variables with inconsistent numbers of samples: [159, 40]",
     "output_type": "error",
     "traceback": [
      "\u001b[1;31m---------------------------------------------------------------------------\u001b[0m",
      "\u001b[1;31mValueError\u001b[0m                                Traceback (most recent call last)",
      "\u001b[1;32mC:\\Users\\DAVIDW~1\\AppData\\Local\\Temp/ipykernel_732/305443076.py\u001b[0m in \u001b[0;36m<module>\u001b[1;34m\u001b[0m\n\u001b[1;32m----> 1\u001b[1;33m \u001b[0mprint\u001b[0m\u001b[1;33m(\u001b[0m\u001b[0mnp\u001b[0m\u001b[1;33m.\u001b[0m\u001b[0msqrt\u001b[0m\u001b[1;33m(\u001b[0m\u001b[0mmetrics\u001b[0m\u001b[1;33m.\u001b[0m\u001b[0mmean_squared_error\u001b[0m\u001b[1;33m(\u001b[0m\u001b[0my\u001b[0m\u001b[1;33m,\u001b[0m \u001b[0my_pred\u001b[0m\u001b[1;33m)\u001b[0m\u001b[1;33m)\u001b[0m\u001b[1;33m)\u001b[0m\u001b[1;33m\u001b[0m\u001b[1;33m\u001b[0m\u001b[0m\n\u001b[0m",
      "\u001b[1;32m~\\anaconda3\\lib\\site-packages\\sklearn\\utils\\validation.py\u001b[0m in \u001b[0;36minner_f\u001b[1;34m(*args, **kwargs)\u001b[0m\n\u001b[0;32m     61\u001b[0m             \u001b[0mextra_args\u001b[0m \u001b[1;33m=\u001b[0m \u001b[0mlen\u001b[0m\u001b[1;33m(\u001b[0m\u001b[0margs\u001b[0m\u001b[1;33m)\u001b[0m \u001b[1;33m-\u001b[0m \u001b[0mlen\u001b[0m\u001b[1;33m(\u001b[0m\u001b[0mall_args\u001b[0m\u001b[1;33m)\u001b[0m\u001b[1;33m\u001b[0m\u001b[1;33m\u001b[0m\u001b[0m\n\u001b[0;32m     62\u001b[0m             \u001b[1;32mif\u001b[0m \u001b[0mextra_args\u001b[0m \u001b[1;33m<=\u001b[0m \u001b[1;36m0\u001b[0m\u001b[1;33m:\u001b[0m\u001b[1;33m\u001b[0m\u001b[1;33m\u001b[0m\u001b[0m\n\u001b[1;32m---> 63\u001b[1;33m                 \u001b[1;32mreturn\u001b[0m \u001b[0mf\u001b[0m\u001b[1;33m(\u001b[0m\u001b[1;33m*\u001b[0m\u001b[0margs\u001b[0m\u001b[1;33m,\u001b[0m \u001b[1;33m**\u001b[0m\u001b[0mkwargs\u001b[0m\u001b[1;33m)\u001b[0m\u001b[1;33m\u001b[0m\u001b[1;33m\u001b[0m\u001b[0m\n\u001b[0m\u001b[0;32m     64\u001b[0m \u001b[1;33m\u001b[0m\u001b[0m\n\u001b[0;32m     65\u001b[0m             \u001b[1;31m# extra_args > 0\u001b[0m\u001b[1;33m\u001b[0m\u001b[1;33m\u001b[0m\u001b[0m\n",
      "\u001b[1;32m~\\anaconda3\\lib\\site-packages\\sklearn\\metrics\\_regression.py\u001b[0m in \u001b[0;36mmean_squared_error\u001b[1;34m(y_true, y_pred, sample_weight, multioutput, squared)\u001b[0m\n\u001b[0;32m    333\u001b[0m     \u001b[1;36m0.825\u001b[0m\u001b[1;33m...\u001b[0m\u001b[1;33m\u001b[0m\u001b[1;33m\u001b[0m\u001b[0m\n\u001b[0;32m    334\u001b[0m     \"\"\"\n\u001b[1;32m--> 335\u001b[1;33m     y_type, y_true, y_pred, multioutput = _check_reg_targets(\n\u001b[0m\u001b[0;32m    336\u001b[0m         y_true, y_pred, multioutput)\n\u001b[0;32m    337\u001b[0m     \u001b[0mcheck_consistent_length\u001b[0m\u001b[1;33m(\u001b[0m\u001b[0my_true\u001b[0m\u001b[1;33m,\u001b[0m \u001b[0my_pred\u001b[0m\u001b[1;33m,\u001b[0m \u001b[0msample_weight\u001b[0m\u001b[1;33m)\u001b[0m\u001b[1;33m\u001b[0m\u001b[1;33m\u001b[0m\u001b[0m\n",
      "\u001b[1;32m~\\anaconda3\\lib\\site-packages\\sklearn\\metrics\\_regression.py\u001b[0m in \u001b[0;36m_check_reg_targets\u001b[1;34m(y_true, y_pred, multioutput, dtype)\u001b[0m\n\u001b[0;32m     86\u001b[0m         \u001b[0mthe\u001b[0m \u001b[0mdtype\u001b[0m \u001b[0margument\u001b[0m \u001b[0mpassed\u001b[0m \u001b[0mto\u001b[0m \u001b[0mcheck_array\u001b[0m\u001b[1;33m.\u001b[0m\u001b[1;33m\u001b[0m\u001b[1;33m\u001b[0m\u001b[0m\n\u001b[0;32m     87\u001b[0m     \"\"\"\n\u001b[1;32m---> 88\u001b[1;33m     \u001b[0mcheck_consistent_length\u001b[0m\u001b[1;33m(\u001b[0m\u001b[0my_true\u001b[0m\u001b[1;33m,\u001b[0m \u001b[0my_pred\u001b[0m\u001b[1;33m)\u001b[0m\u001b[1;33m\u001b[0m\u001b[1;33m\u001b[0m\u001b[0m\n\u001b[0m\u001b[0;32m     89\u001b[0m     \u001b[0my_true\u001b[0m \u001b[1;33m=\u001b[0m \u001b[0mcheck_array\u001b[0m\u001b[1;33m(\u001b[0m\u001b[0my_true\u001b[0m\u001b[1;33m,\u001b[0m \u001b[0mensure_2d\u001b[0m\u001b[1;33m=\u001b[0m\u001b[1;32mFalse\u001b[0m\u001b[1;33m,\u001b[0m \u001b[0mdtype\u001b[0m\u001b[1;33m=\u001b[0m\u001b[0mdtype\u001b[0m\u001b[1;33m)\u001b[0m\u001b[1;33m\u001b[0m\u001b[1;33m\u001b[0m\u001b[0m\n\u001b[0;32m     90\u001b[0m     \u001b[0my_pred\u001b[0m \u001b[1;33m=\u001b[0m \u001b[0mcheck_array\u001b[0m\u001b[1;33m(\u001b[0m\u001b[0my_pred\u001b[0m\u001b[1;33m,\u001b[0m \u001b[0mensure_2d\u001b[0m\u001b[1;33m=\u001b[0m\u001b[1;32mFalse\u001b[0m\u001b[1;33m,\u001b[0m \u001b[0mdtype\u001b[0m\u001b[1;33m=\u001b[0m\u001b[0mdtype\u001b[0m\u001b[1;33m)\u001b[0m\u001b[1;33m\u001b[0m\u001b[1;33m\u001b[0m\u001b[0m\n",
      "\u001b[1;32m~\\anaconda3\\lib\\site-packages\\sklearn\\utils\\validation.py\u001b[0m in \u001b[0;36mcheck_consistent_length\u001b[1;34m(*arrays)\u001b[0m\n\u001b[0;32m    317\u001b[0m     \u001b[0muniques\u001b[0m \u001b[1;33m=\u001b[0m \u001b[0mnp\u001b[0m\u001b[1;33m.\u001b[0m\u001b[0munique\u001b[0m\u001b[1;33m(\u001b[0m\u001b[0mlengths\u001b[0m\u001b[1;33m)\u001b[0m\u001b[1;33m\u001b[0m\u001b[1;33m\u001b[0m\u001b[0m\n\u001b[0;32m    318\u001b[0m     \u001b[1;32mif\u001b[0m \u001b[0mlen\u001b[0m\u001b[1;33m(\u001b[0m\u001b[0muniques\u001b[0m\u001b[1;33m)\u001b[0m \u001b[1;33m>\u001b[0m \u001b[1;36m1\u001b[0m\u001b[1;33m:\u001b[0m\u001b[1;33m\u001b[0m\u001b[1;33m\u001b[0m\u001b[0m\n\u001b[1;32m--> 319\u001b[1;33m         raise ValueError(\"Found input variables with inconsistent numbers of\"\n\u001b[0m\u001b[0;32m    320\u001b[0m                          \" samples: %r\" % [int(l) for l in lengths])\n\u001b[0;32m    321\u001b[0m \u001b[1;33m\u001b[0m\u001b[0m\n",
      "\u001b[1;31mValueError\u001b[0m: Found input variables with inconsistent numbers of samples: [159, 40]"
     ]
    }
   ],
   "source": [
    "print(np.sqrt(metrics.mean_squared_error(y, y_pred)))"
   ]
  },
  {
   "cell_type": "code",
   "execution_count": null,
   "id": "9591b7e8",
   "metadata": {},
   "outputs": [],
   "source": []
  }
 ],
 "metadata": {
  "kernelspec": {
   "display_name": "Python 3",
   "language": "python",
   "name": "python3"
  },
  "language_info": {
   "codemirror_mode": {
    "name": "ipython",
    "version": 3
   },
   "file_extension": ".py",
   "mimetype": "text/x-python",
   "name": "python",
   "nbconvert_exporter": "python",
   "pygments_lexer": "ipython3",
   "version": "3.8.8"
  },
  "varInspector": {
   "cols": {
    "lenName": 16,
    "lenType": 16,
    "lenVar": 40
   },
   "kernels_config": {
    "python": {
     "delete_cmd_postfix": "",
     "delete_cmd_prefix": "del ",
     "library": "var_list.py",
     "varRefreshCmd": "print(var_dic_list())"
    },
    "r": {
     "delete_cmd_postfix": ") ",
     "delete_cmd_prefix": "rm(",
     "library": "var_list.r",
     "varRefreshCmd": "cat(var_dic_list()) "
    }
   },
   "types_to_exclude": [
    "module",
    "function",
    "builtin_function_or_method",
    "instance",
    "_Feature"
   ],
   "window_display": false
  }
 },
 "nbformat": 4,
 "nbformat_minor": 5
}
